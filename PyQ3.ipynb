{
 "cells": [
  {
   "cell_type": "markdown",
   "id": "fbf60d26",
   "metadata": {},
   "source": [
    "## Fractal Assignment :: MMM"
   ]
  },
  {
   "cell_type": "markdown",
   "id": "85518c77",
   "metadata": {},
   "source": [
    "### PyQ3"
   ]
  },
  {
   "cell_type": "markdown",
   "id": "bf1c4e39",
   "metadata": {},
   "source": [
    "### The below is the provided code snippet"
   ]
  },
  {
   "cell_type": "code",
   "execution_count": 3,
   "id": "59ed9845",
   "metadata": {},
   "outputs": [],
   "source": [
    "import pandas as pd\n",
    "\n",
    "data = {\n",
    "         \n",
    "         'Name': ['Employee_1', 'Employee_2', 'Employee_3', 'Employee_4', 'Employee_5', \n",
    "                 'Employee_6', 'Employee_7', 'Employee_8', 'Employee_9', 'Employee_10', \n",
    "                 'Employee_11', 'Employee_12', 'Employee_13', 'Employee_14', 'Employee_15', \n",
    "                 'Employee_16', 'Employee_17', 'Employee_18', 'Employee_19', 'Employee_20', \n",
    "                 'Employee_21', 'Employee_22', 'Employee_23', 'Employee_24', 'Employee_25', \n",
    "                 'Employee_26', 'Employee_27', 'Employee_28', 'Employee_29', 'Employee_30'],\n",
    "        \n",
    "        'Salary': [54895.0, 38784.0, 120000.0, 60309.0, 46788.0, 50598.0, 61915.0, 50651.0, \n",
    "                   38155.0, 55480.0, 49396.0, 64183.0, 38894.0, 46672.0, 20000.0, 57935.0,\n",
    "                   57055.0, 44719.0, 66267.0, 48339.0, 44490.0, 48817.0, 39738.0, 59433.0,\n",
    "                   80823.0, 80000.0, 52704.0, 54168.0, 56569.0, 45481.0],\n",
    "        \n",
    "        'Age': [49, 48, 34, 33, 59, 36, 34, 30, 36, 29, 29, 54, 55, 29, 53, 34, 23, 41, 58,\n",
    "                41, 45, 22, 39, 47, 22, 30, 53, 33, 23, 52],\n",
    "        \n",
    "        'Function': ['HR', 'Sales', 'Manager', 'Manager', 'HR', 'Sales', 'Manager', 'HR', 'Sales',\n",
    "                     'HR', 'Sales', 'Developer', 'Developer', 'Sales', 'HR', 'Sales', 'Developer', \n",
    "                     'Developer', 'HR', 'Sales', 'HR', 'Manager', 'HR', 'Sales', 'HR', 'Sales', \n",
    "                     'Sales', 'Developer', 'Developer', 'HR']\n",
    "        }"
   ]
  },
  {
   "cell_type": "code",
   "execution_count": 4,
   "id": "338e0037",
   "metadata": {},
   "outputs": [
    {
     "name": "stdout",
     "output_type": "stream",
     "text": [
      "         Name    Salary  Age Function\n",
      "0  Employee_1   54895.0   49       HR\n",
      "1  Employee_2   38784.0   48    Sales\n",
      "2  Employee_3  120000.0   34  Manager\n",
      "3  Employee_4   60309.0   33  Manager\n",
      "4  Employee_5   46788.0   59       HR\n"
     ]
    }
   ],
   "source": [
    "# Convert to DataFrame\n",
    "df = pd.DataFrame(data)\n",
    "\n",
    "# Display the DataFrame\n",
    "print(df.head())"
   ]
  },
  {
   "cell_type": "code",
   "execution_count": 5,
   "id": "6c280f22",
   "metadata": {},
   "outputs": [],
   "source": [
    "# Define the department to code mapping\n",
    "department_mapping = {\n",
    "'HR': 'HR001',\n",
    "'Sales': 'SAL002',\n",
    "'Manager': 'MGR003',\n",
    "'Developer': 'DEV004'\n",
    "}"
   ]
  },
  {
   "cell_type": "code",
   "execution_count": 6,
   "id": "26fe162f",
   "metadata": {},
   "outputs": [],
   "source": [
    "# Convert the dictionary to a DataFrame\n",
    "department_df = pd.DataFrame(list(department_mapping.items()), columns=['Department', 'Department_Code'])"
   ]
  },
  {
   "cell_type": "code",
   "execution_count": 7,
   "id": "3b546702",
   "metadata": {},
   "outputs": [
    {
     "name": "stdout",
     "output_type": "stream",
     "text": [
      "  Department Department_Code\n",
      "0         HR           HR001\n",
      "1      Sales          SAL002\n",
      "2    Manager          MGR003\n",
      "3  Developer          DEV004\n"
     ]
    }
   ],
   "source": [
    "# Display the DataFrame\n",
    "print(department_df)"
   ]
  },
  {
   "cell_type": "markdown",
   "id": "aba62cce",
   "metadata": {},
   "source": [
    "### Questions"
   ]
  },
  {
   "attachments": {
    "%7B99F4A5BB-359A-45F4-942F-83EE3A048E68%7D.png": {
     "image/png": "[encoded data removed]"
    }
   },
   "cell_type": "markdown",
   "id": "43267dfa",
   "metadata": {},
   "source": [
    "![%7B99F4A5BB-359A-45F4-942F-83EE3A048E68%7D.png](attachment:%7B99F4A5BB-359A-45F4-942F-83EE3A048E68%7D.png)"
   ]
  },
  {
   "cell_type": "markdown",
   "id": "92e4ad1f",
   "metadata": {},
   "source": [
    "### Q1) Create a new column Age_Bucketed, which will categorize ages under:\n",
    " **\"<20 years\",  \"20-30 years\",  \"30-40 years\",  \"40-50 years\",  \">50 years\"**\n"
   ]
  },
  {
   "cell_type": "code",
   "execution_count": 8,
   "id": "725495a2",
   "metadata": {},
   "outputs": [
    {
     "data": {
      "text/html": [
       "<div>\n",
       "<style scoped>\n",
       "    .dataframe tbody tr th:only-of-type {\n",
       "        vertical-align: middle;\n",
       "    }\n",
       "\n",
       "    .dataframe tbody tr th {\n",
       "        vertical-align: top;\n",
       "    }\n",
       "\n",
       "    .dataframe thead th {\n",
       "        text-align: right;\n",
       "    }\n",
       "</style>\n",
       "<table border=\"1\" class=\"dataframe\">\n",
       "  <thead>\n",
       "    <tr style=\"text-align: right;\">\n",
       "      <th></th>\n",
       "      <th>Name</th>\n",
       "      <th>Salary</th>\n",
       "      <th>Age</th>\n",
       "      <th>Function</th>\n",
       "    </tr>\n",
       "  </thead>\n",
       "  <tbody>\n",
       "    <tr>\n",
       "      <th>0</th>\n",
       "      <td>Employee_1</td>\n",
       "      <td>54895.0</td>\n",
       "      <td>49</td>\n",
       "      <td>HR</td>\n",
       "    </tr>\n",
       "    <tr>\n",
       "      <th>1</th>\n",
       "      <td>Employee_2</td>\n",
       "      <td>38784.0</td>\n",
       "      <td>48</td>\n",
       "      <td>Sales</td>\n",
       "    </tr>\n",
       "    <tr>\n",
       "      <th>2</th>\n",
       "      <td>Employee_3</td>\n",
       "      <td>120000.0</td>\n",
       "      <td>34</td>\n",
       "      <td>Manager</td>\n",
       "    </tr>\n",
       "    <tr>\n",
       "      <th>3</th>\n",
       "      <td>Employee_4</td>\n",
       "      <td>60309.0</td>\n",
       "      <td>33</td>\n",
       "      <td>Manager</td>\n",
       "    </tr>\n",
       "    <tr>\n",
       "      <th>4</th>\n",
       "      <td>Employee_5</td>\n",
       "      <td>46788.0</td>\n",
       "      <td>59</td>\n",
       "      <td>HR</td>\n",
       "    </tr>\n",
       "  </tbody>\n",
       "</table>\n",
       "</div>"
      ],
      "text/plain": [
       "         Name    Salary  Age Function\n",
       "0  Employee_1   54895.0   49       HR\n",
       "1  Employee_2   38784.0   48    Sales\n",
       "2  Employee_3  120000.0   34  Manager\n",
       "3  Employee_4   60309.0   33  Manager\n",
       "4  Employee_5   46788.0   59       HR"
      ]
     },
     "execution_count": 8,
     "metadata": {},
     "output_type": "execute_result"
    }
   ],
   "source": [
    "df.head(5)"
   ]
  },
  {
   "cell_type": "code",
   "execution_count": 9,
   "id": "158a1729",
   "metadata": {},
   "outputs": [
    {
     "data": {
      "text/html": [
       "<div>\n",
       "<style scoped>\n",
       "    .dataframe tbody tr th:only-of-type {\n",
       "        vertical-align: middle;\n",
       "    }\n",
       "\n",
       "    .dataframe tbody tr th {\n",
       "        vertical-align: top;\n",
       "    }\n",
       "\n",
       "    .dataframe thead th {\n",
       "        text-align: right;\n",
       "    }\n",
       "</style>\n",
       "<table border=\"1\" class=\"dataframe\">\n",
       "  <thead>\n",
       "    <tr style=\"text-align: right;\">\n",
       "      <th></th>\n",
       "      <th>Name</th>\n",
       "      <th>Salary</th>\n",
       "      <th>Age</th>\n",
       "      <th>Function</th>\n",
       "      <th>AgeBucketed</th>\n",
       "    </tr>\n",
       "  </thead>\n",
       "  <tbody>\n",
       "    <tr>\n",
       "      <th>0</th>\n",
       "      <td>Employee_1</td>\n",
       "      <td>54895.0</td>\n",
       "      <td>49</td>\n",
       "      <td>HR</td>\n",
       "      <td>40-50 years</td>\n",
       "    </tr>\n",
       "    <tr>\n",
       "      <th>1</th>\n",
       "      <td>Employee_2</td>\n",
       "      <td>38784.0</td>\n",
       "      <td>48</td>\n",
       "      <td>Sales</td>\n",
       "      <td>40-50 years</td>\n",
       "    </tr>\n",
       "    <tr>\n",
       "      <th>2</th>\n",
       "      <td>Employee_3</td>\n",
       "      <td>120000.0</td>\n",
       "      <td>34</td>\n",
       "      <td>Manager</td>\n",
       "      <td>30-40 years</td>\n",
       "    </tr>\n",
       "    <tr>\n",
       "      <th>3</th>\n",
       "      <td>Employee_4</td>\n",
       "      <td>60309.0</td>\n",
       "      <td>33</td>\n",
       "      <td>Manager</td>\n",
       "      <td>30-40 years</td>\n",
       "    </tr>\n",
       "    <tr>\n",
       "      <th>4</th>\n",
       "      <td>Employee_5</td>\n",
       "      <td>46788.0</td>\n",
       "      <td>59</td>\n",
       "      <td>HR</td>\n",
       "      <td>&gt;50 years</td>\n",
       "    </tr>\n",
       "  </tbody>\n",
       "</table>\n",
       "</div>"
      ],
      "text/plain": [
       "         Name    Salary  Age Function  AgeBucketed\n",
       "0  Employee_1   54895.0   49       HR  40-50 years\n",
       "1  Employee_2   38784.0   48    Sales  40-50 years\n",
       "2  Employee_3  120000.0   34  Manager  30-40 years\n",
       "3  Employee_4   60309.0   33  Manager  30-40 years\n",
       "4  Employee_5   46788.0   59       HR    >50 years"
      ]
     },
     "execution_count": 9,
     "metadata": {},
     "output_type": "execute_result"
    }
   ],
   "source": [
    "# Creating function map values\n",
    "def setAgeBucketed(age):\n",
    "    \n",
    "    if age<20:\n",
    "        return \"<20 years\"\n",
    "    \n",
    "    elif age>=20 and age<30:\n",
    "        return \"20-30 years\"\n",
    "    \n",
    "    elif age>=30 and age<40:\n",
    "        return \"30-40 years\"\n",
    "    \n",
    "    elif age>=40 and age<50:\n",
    "        return \"40-50 years\"\n",
    "    \n",
    "    else:\n",
    "        return \">50 years\"\n",
    "    \n",
    "df[\"AgeBucketed\"] = df.Age.apply(setAgeBucketed)\n",
    "df.head()"
   ]
  },
  {
   "cell_type": "markdown",
   "id": "4f5e8d85",
   "metadata": {},
   "source": [
    "### Q2) Create a new column to generate function codes for each function using department df.\n"
   ]
  },
  {
   "cell_type": "code",
   "execution_count": 11,
   "id": "22507937",
   "metadata": {},
   "outputs": [
    {
     "data": {
      "text/html": [
       "<div>\n",
       "<style scoped>\n",
       "    .dataframe tbody tr th:only-of-type {\n",
       "        vertical-align: middle;\n",
       "    }\n",
       "\n",
       "    .dataframe tbody tr th {\n",
       "        vertical-align: top;\n",
       "    }\n",
       "\n",
       "    .dataframe thead th {\n",
       "        text-align: right;\n",
       "    }\n",
       "</style>\n",
       "<table border=\"1\" class=\"dataframe\">\n",
       "  <thead>\n",
       "    <tr style=\"text-align: right;\">\n",
       "      <th></th>\n",
       "      <th>Name</th>\n",
       "      <th>Salary</th>\n",
       "      <th>Age</th>\n",
       "      <th>Function</th>\n",
       "      <th>AgeBucketed</th>\n",
       "      <th>Department</th>\n",
       "      <th>Department_Code</th>\n",
       "    </tr>\n",
       "  </thead>\n",
       "  <tbody>\n",
       "    <tr>\n",
       "      <th>0</th>\n",
       "      <td>Employee_1</td>\n",
       "      <td>54895.0</td>\n",
       "      <td>49</td>\n",
       "      <td>HR</td>\n",
       "      <td>40-50 years</td>\n",
       "      <td>HR</td>\n",
       "      <td>HR001</td>\n",
       "    </tr>\n",
       "    <tr>\n",
       "      <th>1</th>\n",
       "      <td>Employee_2</td>\n",
       "      <td>38784.0</td>\n",
       "      <td>48</td>\n",
       "      <td>Sales</td>\n",
       "      <td>40-50 years</td>\n",
       "      <td>Sales</td>\n",
       "      <td>SAL002</td>\n",
       "    </tr>\n",
       "    <tr>\n",
       "      <th>2</th>\n",
       "      <td>Employee_3</td>\n",
       "      <td>120000.0</td>\n",
       "      <td>34</td>\n",
       "      <td>Manager</td>\n",
       "      <td>30-40 years</td>\n",
       "      <td>Manager</td>\n",
       "      <td>MGR003</td>\n",
       "    </tr>\n",
       "    <tr>\n",
       "      <th>3</th>\n",
       "      <td>Employee_4</td>\n",
       "      <td>60309.0</td>\n",
       "      <td>33</td>\n",
       "      <td>Manager</td>\n",
       "      <td>30-40 years</td>\n",
       "      <td>Manager</td>\n",
       "      <td>MGR003</td>\n",
       "    </tr>\n",
       "    <tr>\n",
       "      <th>4</th>\n",
       "      <td>Employee_5</td>\n",
       "      <td>46788.0</td>\n",
       "      <td>59</td>\n",
       "      <td>HR</td>\n",
       "      <td>&gt;50 years</td>\n",
       "      <td>HR</td>\n",
       "      <td>HR001</td>\n",
       "    </tr>\n",
       "  </tbody>\n",
       "</table>\n",
       "</div>"
      ],
      "text/plain": [
       "         Name    Salary  Age Function  AgeBucketed Department Department_Code\n",
       "0  Employee_1   54895.0   49       HR  40-50 years         HR           HR001\n",
       "1  Employee_2   38784.0   48    Sales  40-50 years      Sales          SAL002\n",
       "2  Employee_3  120000.0   34  Manager  30-40 years    Manager          MGR003\n",
       "3  Employee_4   60309.0   33  Manager  30-40 years    Manager          MGR003\n",
       "4  Employee_5   46788.0   59       HR    >50 years         HR           HR001"
      ]
     },
     "execution_count": 11,
     "metadata": {},
     "output_type": "execute_result"
    }
   ],
   "source": [
    "df.merge(department_df, how = \"left\",left_on=\"Function\", right_on=\"Department\").head()"
   ]
  },
  {
   "attachments": {},
   "cell_type": "markdown",
   "id": "3b579d56",
   "metadata": {},
   "source": [
    "### Q3) Create a new column to find outliers in the df: \"Outlier\", \"Not an Outlier\"\n"
   ]
  },
  {
   "cell_type": "markdown",
   "id": "7c724309",
   "metadata": {},
   "source": [
    "Before finding outlier we need to determine a specific column from the given dataset.That is salary."
   ]
  },
  {
   "cell_type": "code",
   "execution_count": 12,
   "id": "6eda2826",
   "metadata": {},
   "outputs": [],
   "source": [
    "Q3 = df.Salary.quantile(q=0.75)\n",
    "Q1 = df.Salary.quantile(q=0.25)\n",
    "\n",
    "IQR = Q3 - Q1"
   ]
  },
  {
   "cell_type": "code",
   "execution_count": 55,
   "id": "ffd45fb7",
   "metadata": {},
   "outputs": [
    {
     "data": {
      "image/png": "[encoded data removed]",
      "text/plain": [
       "<Figure size 640x480 with 1 Axes>"
      ]
     },
     "metadata": {},
     "output_type": "display_data"
    }
   ],
   "source": [
    "import matplotlib.pyplot as plt\n",
    "\n",
    "plt.boxplot(df.Salary)\n",
    "plt.show()"
   ]
  },
  {
   "cell_type": "markdown",
   "id": "a3cf2fd7",
   "metadata": {},
   "source": [
    "**As per above visual outliers are detected.**"
   ]
  },
  {
   "cell_type": "code",
   "execution_count": 14,
   "id": "9658605b",
   "metadata": {},
   "outputs": [],
   "source": [
    "upper_limit = Q3 + 1.5*IQR\n",
    "lower_limit = Q1 - 1.5*IQR"
   ]
  },
  {
   "cell_type": "code",
   "execution_count": 16,
   "id": "2c85dd37",
   "metadata": {},
   "outputs": [],
   "source": [
    "df[\"QutlierOrNot\"] = df.Salary.apply(lambda x : \"Outlier\" if x<lower_limit or x>upper_limit else \"Not an Outlier\")"
   ]
  },
  {
   "cell_type": "code",
   "execution_count": 40,
   "id": "f3e33164",
   "metadata": {},
   "outputs": [
    {
     "data": {
      "text/html": [
       "<div>\n",
       "<style scoped>\n",
       "    .dataframe tbody tr th:only-of-type {\n",
       "        vertical-align: middle;\n",
       "    }\n",
       "\n",
       "    .dataframe tbody tr th {\n",
       "        vertical-align: top;\n",
       "    }\n",
       "\n",
       "    .dataframe thead th {\n",
       "        text-align: right;\n",
       "    }\n",
       "</style>\n",
       "<table border=\"1\" class=\"dataframe\">\n",
       "  <thead>\n",
       "    <tr style=\"text-align: right;\">\n",
       "      <th></th>\n",
       "      <th>Name</th>\n",
       "      <th>Salary</th>\n",
       "      <th>Age</th>\n",
       "      <th>Function</th>\n",
       "      <th>AgeBucketed</th>\n",
       "      <th>QutlierOrNot</th>\n",
       "    </tr>\n",
       "  </thead>\n",
       "  <tbody>\n",
       "    <tr>\n",
       "      <th>0</th>\n",
       "      <td>Employee_1</td>\n",
       "      <td>54895.0</td>\n",
       "      <td>49</td>\n",
       "      <td>HR</td>\n",
       "      <td>40-50 years</td>\n",
       "      <td>Not an Outlier</td>\n",
       "    </tr>\n",
       "    <tr>\n",
       "      <th>1</th>\n",
       "      <td>Employee_2</td>\n",
       "      <td>38784.0</td>\n",
       "      <td>48</td>\n",
       "      <td>Sales</td>\n",
       "      <td>40-50 years</td>\n",
       "      <td>Not an Outlier</td>\n",
       "    </tr>\n",
       "    <tr>\n",
       "      <th>2</th>\n",
       "      <td>Employee_3</td>\n",
       "      <td>120000.0</td>\n",
       "      <td>34</td>\n",
       "      <td>Manager</td>\n",
       "      <td>30-40 years</td>\n",
       "      <td>Outlier</td>\n",
       "    </tr>\n",
       "    <tr>\n",
       "      <th>3</th>\n",
       "      <td>Employee_4</td>\n",
       "      <td>60309.0</td>\n",
       "      <td>33</td>\n",
       "      <td>Manager</td>\n",
       "      <td>30-40 years</td>\n",
       "      <td>Not an Outlier</td>\n",
       "    </tr>\n",
       "    <tr>\n",
       "      <th>4</th>\n",
       "      <td>Employee_5</td>\n",
       "      <td>46788.0</td>\n",
       "      <td>59</td>\n",
       "      <td>HR</td>\n",
       "      <td>&gt;50 years</td>\n",
       "      <td>Not an Outlier</td>\n",
       "    </tr>\n",
       "  </tbody>\n",
       "</table>\n",
       "</div>"
      ],
      "text/plain": [
       "         Name    Salary  Age Function  AgeBucketed    QutlierOrNot\n",
       "0  Employee_1   54895.0   49       HR  40-50 years  Not an Outlier\n",
       "1  Employee_2   38784.0   48    Sales  40-50 years  Not an Outlier\n",
       "2  Employee_3  120000.0   34  Manager  30-40 years         Outlier\n",
       "3  Employee_4   60309.0   33  Manager  30-40 years  Not an Outlier\n",
       "4  Employee_5   46788.0   59       HR    >50 years  Not an Outlier"
      ]
     },
     "execution_count": 40,
     "metadata": {},
     "output_type": "execute_result"
    }
   ],
   "source": [
    "df.head()"
   ]
  },
  {
   "cell_type": "markdown",
   "id": "50cb9298",
   "metadata": {},
   "source": [
    "**Visual after removing outliers.**"
   ]
  },
  {
   "cell_type": "code",
   "execution_count": 53,
   "id": "83d0c357",
   "metadata": {},
   "outputs": [
    {
     "data": {
      "image/png": "[encoded data removed]",
      "text/plain": [
       "<Figure size 640x480 with 1 Axes>"
      ]
     },
     "metadata": {},
     "output_type": "display_data"
    }
   ],
   "source": [
    "plt.boxplot(df.Salary[(df.Salary > lower_limit) & (df.Salary < upper_limit)])\n",
    "plt.show()"
   ]
  },
  {
   "cell_type": "code",
   "execution_count": null,
   "id": "5895ecf0",
   "metadata": {},
   "outputs": [],
   "source": []
  }
 ],
 "metadata": {
  "kernelspec": {
   "display_name": "Python [conda env:root] *",
   "language": "python",
   "name": "conda-root-py"
  },
  "language_info": {
   "codemirror_mode": {
    "name": "ipython",
    "version": 3
   },
   "file_extension": ".py",
   "mimetype": "text/x-python",
   "name": "python",
   "nbconvert_exporter": "python",
   "pygments_lexer": "ipython3",
   "version": "3.9.13"
  }
 },
 "nbformat": 4,
 "nbformat_minor": 5
}
